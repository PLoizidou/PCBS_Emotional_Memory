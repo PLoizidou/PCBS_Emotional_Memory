{
 "cells": [
  {
   "cell_type": "markdown",
   "metadata": {},
   "source": [
    "\"\"\" This is file that can be run to obtain different comparisons across brain states for three different kinds of neurons. The user can choose the sessions of interest (sessions are represented by local directories with the files associated with each session), two brain states among 'sws', 'wake','Rem', and 'drowsy', and finally a brain structure among 'Hpc' and 'BLA'\"\"\""
   ]
  },
  {
   "cell_type": "code",
   "execution_count": null,
   "metadata": {},
   "outputs": [],
   "source": [
    "import firingratefunctions as fr\n",
    "import pickle\n",
    "\n",
    "%matplotlib qt"
   ]
  },
  {
   "cell_type": "code",
   "execution_count": null,
   "metadata": {},
   "outputs": [],
   "source": [
    "with open('sessions.pkl', 'rb') as f:\n",
    "    session_paths = pickle.load(f)"
   ]
  },
  {
   "cell_type": "code",
   "execution_count": null,
   "metadata": {},
   "outputs": [],
   "source": [
    "fr.plot_scatter(session_paths, ['wake','sws'], 'Hpc')"
   ]
  },
  {
   "cell_type": "code",
   "execution_count": null,
   "metadata": {},
   "outputs": [],
   "source": [
    "fr.plot_scatter(session_paths, ['wake','Rem'], 'Hpc')"
   ]
  },
  {
   "cell_type": "code",
   "execution_count": null,
   "metadata": {},
   "outputs": [],
   "source": [
    "fr.plot_both_histograms(session_paths, ['wake','sws'], 'Hpc',bin_size=50, upper_axis_bound=100, lower_axis_bound=0.1)"
   ]
  },
  {
   "cell_type": "code",
   "execution_count": null,
   "metadata": {},
   "outputs": [],
   "source": [
    "fr.plot_both_histograms(session_paths, ['wake','Rem'], 'Hpc',bin_size=50, upper_axis_bound=100, lower_axis_bound=0.1)"
   ]
  }
 ],
 "metadata": {
  "kernelspec": {
   "display_name": "Python 3",
   "language": "python",
   "name": "python3"
  },
  "language_info": {
   "codemirror_mode": {
    "name": "ipython",
    "version": 3
   },
   "file_extension": ".py",
   "mimetype": "text/x-python",
   "name": "python",
   "nbconvert_exporter": "python",
   "pygments_lexer": "ipython3",
   "version": "3.8.5"
  }
 },
 "nbformat": 4,
 "nbformat_minor": 4
}
