{
 "cells": [
  {
   "cell_type": "code",
   "execution_count": 1,
   "metadata": {
    "scrolled": true
   },
   "outputs": [],
   "source": [
    "import numpy as np\n",
    "import pandas as pd\n",
    "import math\n",
    "import matplotlib.pyplot as plt\n",
    "\n",
    "import bk.load\n",
    "import bk.compute\n",
    "import bk.signal"
   ]
  },
  {
   "cell_type": "code",
   "execution_count": 2,
   "metadata": {
    "scrolled": true
   },
   "outputs": [],
   "source": [
    "session_paths=['Z:\\\\Rat08\\\\Rat08-20130708',\n",
    " 'Z:\\\\Rat08\\\\Rat08-20130709',\n",
    " 'Z:\\\\Rat08\\\\Rat08-20130710',\n",
    " 'Z:\\\\Rat08\\\\Rat08-20130711',\n",
    " 'Z:\\\\Rat08\\\\Rat08-20130712',\n",
    " 'Z:\\\\Rat08\\\\Rat08-20130713',\n",
    " 'Z:\\\\Rat08\\\\Rat08-20130715',\n",
    " 'Z:\\\\Rat08\\\\Rat08-20130716',\n",
    " 'Z:\\\\Rat08\\\\Rat08-20130717',\n",
    " 'Z:\\\\Rat08\\\\Rat08-20130718',\n",
    " 'Z:\\\\Rat08\\\\Rat08-20130719',\n",
    " 'Z:\\\\Rat09\\\\Rat09-20140324',\n",
    " 'Z:\\\\Rat09\\\\Rat09-20140325',\n",
    " 'Z:\\\\Rat09\\\\Rat09-20140326',\n",
    " 'Z:\\\\Rat09\\\\Rat09-20140327',\n",
    " 'Z:\\\\Rat09\\\\Rat09-20140328',\n",
    " 'Z:\\\\Rat09\\\\Rat09-20140329',\n",
    " 'Z:\\\\Rat09\\\\Rat09-20140331',\n",
    " 'Z:\\\\Rat09\\\\Rat09-20140401',\n",
    " 'Z:\\\\Rat09\\\\Rat09-20140402',\n",
    " 'Z:\\\\Rat09\\\\Rat09-20140403',\n",
    " 'Z:\\\\Rat09\\\\Rat09-20140404',\n",
    " 'Z:\\\\Rat09\\\\Rat09-20140405',\n",
    " 'Z:\\\\Rat09\\\\Rat09-20140407',\n",
    " 'Z:\\\\Rat09\\\\Rat09-20140408',\n",
    " 'Z:\\\\Rat09\\\\Rat09-20140409',\n",
    " 'Z:\\\\Rat10\\\\Rat10-20140619',\n",
    " 'Z:\\\\Rat10\\\\Rat10-20140620',\n",
    " 'Z:\\\\Rat10\\\\Rat10-20140622',\n",
    " 'Z:\\\\Rat10\\\\Rat10-20140624',\n",
    " 'Z:\\\\Rat10\\\\Rat10-20140626',\n",
    " 'Z:\\\\Rat10\\\\Rat10-20140627',\n",
    " 'Z:\\\\Rat10\\\\Rat10-20140628',\n",
    " 'Z:\\\\Rat10\\\\Rat10-20140629',\n",
    " 'Z:\\\\Rat10\\\\Rat10-20140701',\n",
    " 'Z:\\\\Rat10\\\\Rat10-20140702',\n",
    " 'Z:\\\\Rat10\\\\Rat10-20140703',\n",
    " 'Z:\\\\Rat10\\\\Rat10-20140704',\n",
    " 'Z:\\\\Rat10\\\\Rat10-20140705',\n",
    " 'Z:\\\\Rat10\\\\Rat10-20140707',\n",
    " 'Z:\\\\Rat10\\\\Rat10-20140708',\n",
    " 'Z:\\\\Rat11\\\\Rat11-20150310',\n",
    " 'Z:\\\\Rat11\\\\Rat11-20150312',\n",
    " 'Z:\\\\Rat11\\\\Rat11-20150313',\n",
    " 'Z:\\\\Rat11\\\\Rat11-20150314',\n",
    " 'Z:\\\\Rat11\\\\Rat11-20150315',\n",
    " 'Z:\\\\Rat11\\\\Rat11-20150316',\n",
    " 'Z:\\\\Rat11\\\\Rat11-20150317',\n",
    " 'Z:\\\\Rat11\\\\Rat11-20150321',\n",
    " 'Z:\\\\Rat11\\\\Rat11-20150323',\n",
    " 'Z:\\\\Rat11\\\\Rat11-20150325',\n",
    " 'Z:\\\\Rat11\\\\Rat11-20150326',\n",
    " 'Z:\\\\Rat11\\\\Rat11-20150328',\n",
    " 'Z:\\\\Rat11\\\\Rat11-20150330',\n",
    " 'Z:\\\\Rat11\\\\Rat11-20150331',\n",
    " 'Z:\\\\Rat11\\\\Rat11-20150401',\n",
    " 'Z:\\\\Rat11\\\\Rat11-20150402',\n",
    " 'Z:\\\\Rat11\\\\Rat11-20150403']"
   ]
  },
  {
   "cell_type": "code",
   "execution_count": 3,
   "metadata": {
    "scrolled": true
   },
   "outputs": [],
   "source": [
    "def split_neurons_types_regions(path, brain_region):\n",
    "    bk.load.current_session(path)\n",
    "    neurons, metadata = bk.load.loadSpikeData(path)\n",
    "    pyramidal = neurons[(metadata['Type']=='Pyr') & (metadata['Region']==brain_region)]\n",
    "    interneurons = neurons[(metadata['Type']=='Int') & (metadata['Region']==brain_region)]\n",
    "    other_neurons = neurons[metadata['Type']=='Unk']\n",
    "    return pyramidal, interneurons, other_neurons"
   ]
  },
  {
   "cell_type": "code",
   "execution_count": 4,
   "metadata": {
    "scrolled": true
   },
   "outputs": [],
   "source": [
    "def get_firing_rate_for_specific_state(neurons, state):\n",
    "    \"\"\"\n",
    "    Returns a pandas Series object with the mean firing rate of each of the neurons during a chosen state (REM, sws, drowsy, or wake)\n",
    "    \n",
    "    Keyword arguments:\n",
    "    neurons -- numpy.ndarray containing series data of selected neurons \n",
    "    state -- string, should be one of the following: Rem, sws, drowsy, wake (default='REM')\n",
    "    \n",
    "    Restrictions:\n",
    "    Can only be called when the neurons and session have already been loaded.\n",
    "    \"\"\"\n",
    "    mean_firing_rates = pd.Series(index = np.arange(len(neurons)),dtype='float64')\n",
    "    state_used = bk.load.states()[state]\n",
    "\n",
    "    for i in range(len(neurons)):\n",
    "        try:\n",
    "            spk_time = neurons[i].restrict(state_used).as_units('ms').index.values\n",
    "            mean_firing_rates[i] = len(spk_time)/state_used.tot_length('s')\n",
    "        except Exception:\n",
    "            pass #using this exeption because not all neurons have spikes in all states. The nan values cannot be used to calculate firing rates.\n",
    "    return mean_firing_rates"
   ]
  },
  {
   "cell_type": "code",
   "execution_count": 5,
   "metadata": {
    "scrolled": true
   },
   "outputs": [],
   "source": [
    "def get_FR_per_state_neurontype(path, states, brain_region):\n",
    "    '''\n",
    "    Returns 2 lists (one for each state) with the mean firing rate of each of the types of neurons (Pyramidal, interneurons, unknown) during the chosen state.\n",
    "    \n",
    "    Keyword arguments:\n",
    "    path -- string containing the dircetory where the data files are stored\n",
    "    states -- list of 2 strings, should be one of the following: REM, sws, drowsy, wake (default='REM')\n",
    "    '''\n",
    "    neurons_by_type=split_neurons_types_regions(path, brain_region)\n",
    "    firing_rates_state0=[]\n",
    "    firing_rates_state1=[]\n",
    "    for i in neurons_by_type:\n",
    "        x=get_firing_rate_for_specific_state(i, states[0])\n",
    "        y=get_firing_rate_for_specific_state(i, states[1])\n",
    "        firing_rates_state0.append(x)\n",
    "        firing_rates_state1.append(y)\n",
    "    return firing_rates_state0, firing_rates_state1"
   ]
  },
  {
   "cell_type": "code",
   "execution_count": 6,
   "metadata": {
    "scrolled": true
   },
   "outputs": [],
   "source": [
    "def get_firing_rates_all_sessions(paths, states, brain_region):\n",
    "    '''\n",
    "    Returns N lists (one for each state) with the mean firing rate of each of the types of neurons (Pyramidal, interneurons, unknown) during the chosen state\n",
    "    where N is the number of sessions.\n",
    "    Returned lists structure = Number of sessions * number of types of cells(=3) * number of cells(depends on session)\n",
    "    \n",
    "    Keyword arguments:\n",
    "    paths -- list of strings containing the dircetories where the data files for each sessions are stored\n",
    "    states -- list of 2 strings, should be one of the following: REM, sws, drowsy, wake (default='REM')\n",
    "    '''\n",
    "    \n",
    "    all_sessions_state0=[]\n",
    "    all_sessions_state1=[]\n",
    "\n",
    "    for path in paths:\n",
    "        FR_per_cell_state0,FR_per_cell_state1=get_FR_per_state_neurontype(path, states, brain_region)\n",
    "        all_sessions_state0.append(FR_per_cell_state0)\n",
    "        all_sessions_state1.append(FR_per_cell_state1)\n",
    "    return np.array(all_sessions_state0,dtype=object), np.array(all_sessions_state1,dtype=object)"
   ]
  },
  {
   "cell_type": "code",
   "execution_count": 7,
   "metadata": {},
   "outputs": [],
   "source": [
    "def double_flatten(array):\n",
    "    flat_1=np.concatenate(array).ravel()\n",
    "    flat_2=np.concatenate(flat_1).ravel()\n",
    "    return flat_2"
   ]
  },
  {
   "cell_type": "code",
   "execution_count": 8,
   "metadata": {
    "scrolled": true
   },
   "outputs": [],
   "source": [
    "def plot_scatter(paths, states, brain_region):\n",
    "    x,y=get_firing_rates_all_sessions(paths, states, brain_region)\n",
    "    identity=np.linspace(-10,100,101) \n",
    "    plt.plot(identity,identity, 'k-', color='b')\n",
    "    for i in range(len(x)):\n",
    "        plt.scatter(x[i][2],y[i][2], color='gray', label='other cells')\n",
    "        plt.scatter(x[i][0],y[i][0], color='r')\n",
    "        plt.scatter(x[i][1],y[i][1], color='b')\n",
    "    plt.yscale('log')\n",
    "    plt.xscale('log')\n",
    "    plt.xlabel(f'{states[0]} rate (Hz)')\n",
    "    plt.ylabel(f'{states[1]} rate (Hz)')\n",
    "    plt.show()"
   ]
  },
  {
   "cell_type": "code",
   "execution_count": 9,
   "metadata": {},
   "outputs": [],
   "source": [
    "def plot_histogram(data, bin_size=50, upper_axis_bound=100, lower_axis_bound=0.1):\n",
    "    other,inter,pyr=np.hsplit(data,3)\n",
    "    pyr=double_flatten(pyr)\n",
    "    inter=double_flatten(inter)\n",
    "    other=double_flatten(other)\n",
    "    logbins = np.logspace(np.log10(lower_axis_bound),np.log10(upper_axis_bound),bin_size)\n",
    "    plt.hist(other, logbins, color='gray')\n",
    "    plt.xscale('log')\n",
    "    plt.hist(pyr, logbins, color='r')\n",
    "    plt.xscale('log')\n",
    "    plt.hist(inter, logbins, color='b')\n",
    "    plt.xscale('log')\n",
    "    plt.show()"
   ]
  },
  {
   "cell_type": "code",
   "execution_count": 10,
   "metadata": {},
   "outputs": [],
   "source": [
    "def plot_both_histograms(paths, states, brain_region,bin_size=50, upper_axis_bound=100, lower_axis_bound=0.1):\n",
    "    x,y=get_firing_rates_all_sessions(paths, states, brain_region)\n",
    "    histogram_region_1=plot_histogram(x)\n",
    "    histogram_region_2=plot_histogram(y)\n"
   ]
  },
  {
   "cell_type": "code",
   "execution_count": 12,
   "metadata": {},
   "outputs": [
    {
     "name": "stdout",
     "output_type": "stream",
     "text": [
      "Rat : 8 on day : 6\n",
      "Working with session Rat08-20130713 @ Z:\\Rat08\\Rat08-20130713\n",
      "Data already saved in Numpy format, loading them from here:\n",
      "Rat08-20130713-neurons.npy\n",
      "Rat08-20130713-metadata.npy\n",
      "Rat : 8 on day : 7\n",
      "Working with session Rat08-20130715 @ Z:\\Rat08\\Rat08-20130715\n",
      "Data already saved in Numpy format, loading them from here:\n",
      "Rat08-20130715-neurons.npy\n",
      "Rat08-20130715-metadata.npy\n"
     ]
    }
   ],
   "source": [
    "x,y=get_firing_rates_all_sessions(session_paths[5:7], ['sws','wake'], 'BLA')"
   ]
  },
  {
   "cell_type": "code",
   "execution_count": 17,
   "metadata": {},
   "outputs": [
    {
     "name": "stdout",
     "output_type": "stream",
     "text": [
      "Rat : 8 on day : 6\n",
      "Working with session Rat08-20130713 @ Z:\\Rat08\\Rat08-20130713\n",
      "Data already saved in Numpy format, loading them from here:\n",
      "Rat08-20130713-neurons.npy\n",
      "Rat08-20130713-metadata.npy\n",
      "Rat : 8 on day : 7\n",
      "Working with session Rat08-20130715 @ Z:\\Rat08\\Rat08-20130715\n",
      "Data already saved in Numpy format, loading them from here:\n",
      "Rat08-20130715-neurons.npy\n",
      "Rat08-20130715-metadata.npy\n",
      "Rat : 8 on day : 8\n",
      "Working with session Rat08-20130716 @ Z:\\Rat08\\Rat08-20130716\n",
      "Data already saved in Numpy format, loading them from here:\n",
      "Rat08-20130716-neurons.npy\n",
      "Rat08-20130716-metadata.npy\n",
      "Rat : 8 on day : 9\n",
      "Working with session Rat08-20130717 @ Z:\\Rat08\\Rat08-20130717\n",
      "Data already saved in Numpy format, loading them from here:\n",
      "Rat08-20130717-neurons.npy\n",
      "Rat08-20130717-metadata.npy\n",
      "Rat : 8 on day : 10\n",
      "Working with session Rat08-20130718 @ Z:\\Rat08\\Rat08-20130718\n",
      "Data already saved in Numpy format, loading them from here:\n",
      "Rat08-20130718-neurons.npy\n",
      "Rat08-20130718-metadata.npy\n",
      "Rat : 8 on day : 11\n",
      "Working with session Rat08-20130719 @ Z:\\Rat08\\Rat08-20130719\n",
      "Data already saved in Numpy format, loading them from here:\n",
      "Rat08-20130719-neurons.npy\n",
      "Rat08-20130719-metadata.npy\n",
      "Rat : 9 on day : 1\n",
      "Working with session Rat09-20140324 @ Z:\\Rat09\\Rat09-20140324\n",
      "Data already saved in Numpy format, loading them from here:\n",
      "Rat09-20140324-neurons.npy\n",
      "Rat09-20140324-metadata.npy\n",
      "Rat : 9 on day : 2\n",
      "Working with session Rat09-20140325 @ Z:\\Rat09\\Rat09-20140325\n",
      "Data already saved in Numpy format, loading them from here:\n",
      "Rat09-20140325-neurons.npy\n",
      "Rat09-20140325-metadata.npy\n",
      "Rat : 9 on day : 3\n",
      "Working with session Rat09-20140326 @ Z:\\Rat09\\Rat09-20140326\n",
      "Data already saved in Numpy format, loading them from here:\n",
      "Rat09-20140326-neurons.npy\n",
      "Rat09-20140326-metadata.npy\n",
      "Rat : 9 on day : 4\n",
      "Working with session Rat09-20140327 @ Z:\\Rat09\\Rat09-20140327\n",
      "Data already saved in Numpy format, loading them from here:\n",
      "Rat09-20140327-neurons.npy\n",
      "Rat09-20140327-metadata.npy\n",
      "Rat : 9 on day : 5\n",
      "Working with session Rat09-20140328 @ Z:\\Rat09\\Rat09-20140328\n",
      "Data already saved in Numpy format, loading them from here:\n",
      "Rat09-20140328-neurons.npy\n",
      "Rat09-20140328-metadata.npy\n",
      "Rat : 9 on day : 6\n",
      "Working with session Rat09-20140329 @ Z:\\Rat09\\Rat09-20140329\n",
      "Data already saved in Numpy format, loading them from here:\n",
      "Rat09-20140329-neurons.npy\n",
      "Rat09-20140329-metadata.npy\n",
      "Rat : 9 on day : 7\n",
      "Working with session Rat09-20140331 @ Z:\\Rat09\\Rat09-20140331\n",
      "Data already saved in Numpy format, loading them from here:\n",
      "Rat09-20140331-neurons.npy\n",
      "Rat09-20140331-metadata.npy\n",
      "Rat : 9 on day : 8\n",
      "Working with session Rat09-20140401 @ Z:\\Rat09\\Rat09-20140401\n",
      "Data already saved in Numpy format, loading them from here:\n",
      "Rat09-20140401-neurons.npy\n",
      "Rat09-20140401-metadata.npy\n"
     ]
    },
    {
     "data": {
      "image/png": "[encoded data removed]",
      "text/plain": [
       "<Figure size 432x288 with 1 Axes>"
      ]
     },
     "metadata": {
      "needs_background": "light"
     },
     "output_type": "display_data"
    }
   ],
   "source": [
    "h=plot_scatter(session_paths[5:19], ['sws','wake'], 'Hpc')"
   ]
  },
  {
   "cell_type": "code",
   "execution_count": 18,
   "metadata": {},
   "outputs": [
    {
     "name": "stdout",
     "output_type": "stream",
     "text": [
      "Rat : 8 on day : 6\n",
      "Working with session Rat08-20130713 @ Z:\\Rat08\\Rat08-20130713\n",
      "Data already saved in Numpy format, loading them from here:\n",
      "Rat08-20130713-neurons.npy\n",
      "Rat08-20130713-metadata.npy\n",
      "Rat : 8 on day : 7\n",
      "Working with session Rat08-20130715 @ Z:\\Rat08\\Rat08-20130715\n",
      "Data already saved in Numpy format, loading them from here:\n",
      "Rat08-20130715-neurons.npy\n",
      "Rat08-20130715-metadata.npy\n",
      "Rat : 8 on day : 8\n",
      "Working with session Rat08-20130716 @ Z:\\Rat08\\Rat08-20130716\n",
      "Data already saved in Numpy format, loading them from here:\n",
      "Rat08-20130716-neurons.npy\n",
      "Rat08-20130716-metadata.npy\n",
      "Rat : 8 on day : 9\n",
      "Working with session Rat08-20130717 @ Z:\\Rat08\\Rat08-20130717\n",
      "Data already saved in Numpy format, loading them from here:\n",
      "Rat08-20130717-neurons.npy\n",
      "Rat08-20130717-metadata.npy\n",
      "Rat : 8 on day : 10\n",
      "Working with session Rat08-20130718 @ Z:\\Rat08\\Rat08-20130718\n",
      "Data already saved in Numpy format, loading them from here:\n",
      "Rat08-20130718-neurons.npy\n",
      "Rat08-20130718-metadata.npy\n",
      "Rat : 8 on day : 11\n",
      "Working with session Rat08-20130719 @ Z:\\Rat08\\Rat08-20130719\n",
      "Data already saved in Numpy format, loading them from here:\n",
      "Rat08-20130719-neurons.npy\n",
      "Rat08-20130719-metadata.npy\n",
      "Rat : 9 on day : 1\n",
      "Working with session Rat09-20140324 @ Z:\\Rat09\\Rat09-20140324\n",
      "Data already saved in Numpy format, loading them from here:\n",
      "Rat09-20140324-neurons.npy\n",
      "Rat09-20140324-metadata.npy\n",
      "Rat : 9 on day : 2\n",
      "Working with session Rat09-20140325 @ Z:\\Rat09\\Rat09-20140325\n",
      "Data already saved in Numpy format, loading them from here:\n",
      "Rat09-20140325-neurons.npy\n",
      "Rat09-20140325-metadata.npy\n",
      "Rat : 9 on day : 3\n",
      "Working with session Rat09-20140326 @ Z:\\Rat09\\Rat09-20140326\n",
      "Data already saved in Numpy format, loading them from here:\n",
      "Rat09-20140326-neurons.npy\n",
      "Rat09-20140326-metadata.npy\n",
      "Rat : 9 on day : 4\n",
      "Working with session Rat09-20140327 @ Z:\\Rat09\\Rat09-20140327\n",
      "Data already saved in Numpy format, loading them from here:\n",
      "Rat09-20140327-neurons.npy\n",
      "Rat09-20140327-metadata.npy\n",
      "Rat : 9 on day : 5\n",
      "Working with session Rat09-20140328 @ Z:\\Rat09\\Rat09-20140328\n",
      "Data already saved in Numpy format, loading them from here:\n",
      "Rat09-20140328-neurons.npy\n",
      "Rat09-20140328-metadata.npy\n",
      "Rat : 9 on day : 6\n",
      "Working with session Rat09-20140329 @ Z:\\Rat09\\Rat09-20140329\n",
      "Data already saved in Numpy format, loading them from here:\n",
      "Rat09-20140329-neurons.npy\n",
      "Rat09-20140329-metadata.npy\n",
      "Rat : 9 on day : 7\n",
      "Working with session Rat09-20140331 @ Z:\\Rat09\\Rat09-20140331\n",
      "Data already saved in Numpy format, loading them from here:\n",
      "Rat09-20140331-neurons.npy\n",
      "Rat09-20140331-metadata.npy\n",
      "Rat : 9 on day : 8\n",
      "Working with session Rat09-20140401 @ Z:\\Rat09\\Rat09-20140401\n",
      "Data already saved in Numpy format, loading them from here:\n",
      "Rat09-20140401-neurons.npy\n",
      "Rat09-20140401-metadata.npy\n",
      "Rat : 9 on day : 9\n",
      "Working with session Rat09-20140402 @ Z:\\Rat09\\Rat09-20140402\n",
      "Data already saved in Numpy format, loading them from here:\n",
      "Rat09-20140402-neurons.npy\n",
      "Rat09-20140402-metadata.npy\n",
      "Rat : 9 on day : 10\n",
      "Working with session Rat09-20140403 @ Z:\\Rat09\\Rat09-20140403\n",
      "Data already saved in Numpy format, loading them from here:\n",
      "Rat09-20140403-neurons.npy\n",
      "Rat09-20140403-metadata.npy\n",
      "Rat : 9 on day : 11\n",
      "Working with session Rat09-20140404 @ Z:\\Rat09\\Rat09-20140404\n",
      "Data already saved in Numpy format, loading them from here:\n",
      "Rat09-20140404-neurons.npy\n",
      "Rat09-20140404-metadata.npy\n",
      "Rat : 9 on day : 12\n",
      "Working with session Rat09-20140405 @ Z:\\Rat09\\Rat09-20140405\n",
      "Data already saved in Numpy format, loading them from here:\n",
      "Rat09-20140405-neurons.npy\n",
      "Rat09-20140405-metadata.npy\n",
      "Rat : 9 on day : 13\n",
      "Working with session Rat09-20140407 @ Z:\\Rat09\\Rat09-20140407\n",
      "Data already saved in Numpy format, loading them from here:\n",
      "Rat09-20140407-neurons.npy\n",
      "Rat09-20140407-metadata.npy\n",
      "Rat : 9 on day : 14\n",
      "Working with session Rat09-20140408 @ Z:\\Rat09\\Rat09-20140408\n",
      "Data already saved in Numpy format, loading them from here:\n",
      "Rat09-20140408-neurons.npy\n",
      "Rat09-20140408-metadata.npy\n",
      "Rat : 9 on day : 15\n",
      "Working with session Rat09-20140409 @ Z:\\Rat09\\Rat09-20140409\n",
      "Data already saved in Numpy format, loading them from here:\n",
      "Rat09-20140409-neurons.npy\n",
      "Rat09-20140409-metadata.npy\n",
      "Rat : 10 on day : 1\n",
      "Working with session Rat10-20140619 @ Z:\\Rat10\\Rat10-20140619\n",
      "Data already saved in Numpy format, loading them from here:\n",
      "Rat10-20140619-neurons.npy\n",
      "Rat10-20140619-metadata.npy\n",
      "Rat : 10 on day : 2\n",
      "Working with session Rat10-20140620 @ Z:\\Rat10\\Rat10-20140620\n",
      "Data already saved in Numpy format, loading them from here:\n",
      "Rat10-20140620-neurons.npy\n",
      "Rat10-20140620-metadata.npy\n",
      "Rat : 10 on day : 3\n",
      "Working with session Rat10-20140622 @ Z:\\Rat10\\Rat10-20140622\n",
      "Data already saved in Numpy format, loading them from here:\n",
      "Rat10-20140622-neurons.npy\n",
      "Rat10-20140622-metadata.npy\n"
     ]
    },
    {
     "data": {
      "image/png": "[encoded data removed]",
      "text/plain": [
       "<Figure size 432x288 with 1 Axes>"
      ]
     },
     "metadata": {
      "needs_background": "light"
     },
     "output_type": "display_data"
    },
    {
     "data": {
      "image/png": "[encoded data removed]",
      "text/plain": [
       "<Figure size 432x288 with 1 Axes>"
      ]
     },
     "metadata": {
      "needs_background": "light"
     },
     "output_type": "display_data"
    }
   ],
   "source": [
    "plot_both_histograms(session_paths[5:29], ['sws','wake'], 'Hpc',bin_size=50, upper_axis_bound=100, lower_axis_bound=0.1)"
   ]
  },
  {
   "cell_type": "code",
   "execution_count": null,
   "metadata": {},
   "outputs": [],
   "source": []
  }
 ],
 "metadata": {
  "kernelspec": {
   "display_name": "Python 3",
   "language": "python",
   "name": "python3"
  },
  "language_info": {
   "codemirror_mode": {
    "name": "ipython",
    "version": 3
   },
   "file_extension": ".py",
   "mimetype": "text/x-python",
   "name": "python",
   "nbconvert_exporter": "python",
   "pygments_lexer": "ipython3",
   "version": "3.8.5"
  }
 },
 "nbformat": 4,
 "nbformat_minor": 4
}
