{
 "cells": [
  {
   "cell_type": "code",
   "execution_count": 6,
   "metadata": {
    "scrolled": true
   },
   "outputs": [],
   "source": [
    "import numpy as np\n",
    "import pandas as pd\n",
    "import matplotlib.pyplot as plt\n",
    "\n",
    "import bk.load\n",
    "import bk.compute\n",
    "import bk.signal"
   ]
  },
  {
   "cell_type": "code",
   "execution_count": 48,
   "metadata": {
    "scrolled": true
   },
   "outputs": [],
   "source": [
    "#delete\n",
    "path='Z:\\\\Rat08\\\\Rat08-20130709'"
   ]
  },
  {
   "cell_type": "code",
   "execution_count": 24,
   "metadata": {
    "scrolled": true
   },
   "outputs": [
    {
     "data": {
      "text/plain": [
       "58"
      ]
     },
     "execution_count": 24,
     "metadata": {},
     "output_type": "execute_result"
    }
   ],
   "source": [
    "session_paths=['Z:\\\\Rat08\\\\Rat08-20130708',\n",
    " 'Z:\\\\Rat08\\\\Rat08-20130709',\n",
    " 'Z:\\\\Rat08\\\\Rat08-20130710',\n",
    " 'Z:\\\\Rat08\\\\Rat08-20130711',\n",
    " 'Z:\\\\Rat08\\\\Rat08-20130712',\n",
    " 'Z:\\\\Rat08\\\\Rat08-20130713',\n",
    " 'Z:\\\\Rat08\\\\Rat08-20130715',\n",
    " 'Z:\\\\Rat08\\\\Rat08-20130716',\n",
    " 'Z:\\\\Rat08\\\\Rat08-20130717',\n",
    " 'Z:\\\\Rat08\\\\Rat08-20130718',\n",
    " 'Z:\\\\Rat08\\\\Rat08-20130719',\n",
    " 'Z:\\\\Rat09\\\\Rat09-20140324',\n",
    " 'Z:\\\\Rat09\\\\Rat09-20140325',\n",
    " 'Z:\\\\Rat09\\\\Rat09-20140326',\n",
    " 'Z:\\\\Rat09\\\\Rat09-20140327',\n",
    " 'Z:\\\\Rat09\\\\Rat09-20140328',\n",
    " 'Z:\\\\Rat09\\\\Rat09-20140329',\n",
    " 'Z:\\\\Rat09\\\\Rat09-20140331',\n",
    " 'Z:\\\\Rat09\\\\Rat09-20140401',\n",
    " 'Z:\\\\Rat09\\\\Rat09-20140402',\n",
    " 'Z:\\\\Rat09\\\\Rat09-20140403',\n",
    " 'Z:\\\\Rat09\\\\Rat09-20140404',\n",
    " 'Z:\\\\Rat09\\\\Rat09-20140405',\n",
    " 'Z:\\\\Rat09\\\\Rat09-20140407',\n",
    " 'Z:\\\\Rat09\\\\Rat09-20140408',\n",
    " 'Z:\\\\Rat09\\\\Rat09-20140409',\n",
    " 'Z:\\\\Rat10\\\\Rat10-20140619',\n",
    " 'Z:\\\\Rat10\\\\Rat10-20140620',\n",
    " 'Z:\\\\Rat10\\\\Rat10-20140622',\n",
    " 'Z:\\\\Rat10\\\\Rat10-20140624',\n",
    " 'Z:\\\\Rat10\\\\Rat10-20140626',\n",
    " 'Z:\\\\Rat10\\\\Rat10-20140627',\n",
    " 'Z:\\\\Rat10\\\\Rat10-20140628',\n",
    " 'Z:\\\\Rat10\\\\Rat10-20140629',\n",
    " 'Z:\\\\Rat10\\\\Rat10-20140701',\n",
    " 'Z:\\\\Rat10\\\\Rat10-20140702',\n",
    " 'Z:\\\\Rat10\\\\Rat10-20140703',\n",
    " 'Z:\\\\Rat10\\\\Rat10-20140704',\n",
    " 'Z:\\\\Rat10\\\\Rat10-20140705',\n",
    " 'Z:\\\\Rat10\\\\Rat10-20140707',\n",
    " 'Z:\\\\Rat10\\\\Rat10-20140708',\n",
    " 'Z:\\\\Rat11\\\\Rat11-20150310',\n",
    " 'Z:\\\\Rat11\\\\Rat11-20150312',\n",
    " 'Z:\\\\Rat11\\\\Rat11-20150313',\n",
    " 'Z:\\\\Rat11\\\\Rat11-20150314',\n",
    " 'Z:\\\\Rat11\\\\Rat11-20150315',\n",
    " 'Z:\\\\Rat11\\\\Rat11-20150316',\n",
    " 'Z:\\\\Rat11\\\\Rat11-20150317',\n",
    " 'Z:\\\\Rat11\\\\Rat11-20150321',\n",
    " 'Z:\\\\Rat11\\\\Rat11-20150323',\n",
    " 'Z:\\\\Rat11\\\\Rat11-20150325',\n",
    " 'Z:\\\\Rat11\\\\Rat11-20150326',\n",
    " 'Z:\\\\Rat11\\\\Rat11-20150328',\n",
    " 'Z:\\\\Rat11\\\\Rat11-20150330',\n",
    " 'Z:\\\\Rat11\\\\Rat11-20150331',\n",
    " 'Z:\\\\Rat11\\\\Rat11-20150401',\n",
    " 'Z:\\\\Rat11\\\\Rat11-20150402',\n",
    " 'Z:\\\\Rat11\\\\Rat11-20150403']\n",
    "session_test=session_paths[-10:-1]\n",
    "len(session_paths)"
   ]
  },
  {
   "cell_type": "code",
   "execution_count": 63,
   "metadata": {
    "scrolled": true
   },
   "outputs": [],
   "source": [
    "def split_neurons_types_regions(path, brain_region):\n",
    "    bk.load.current_session(path)\n",
    "    neurons, metadata = bk.load.loadSpikeData(path)\n",
    "    pyramidal = neurons[(metadata['Type']=='Pyr') & (metadata['Region']==brain_region)]\n",
    "    interneurons = neurons[(metadata['Type']=='Int') & (metadata['Region']==brain_region)]\n",
    "    other_neurons = neurons[metadata['Type']=='Unk']\n",
    "    return pyramidal, interneurons, other_neurons"
   ]
  },
  {
   "cell_type": "code",
   "execution_count": 6,
   "metadata": {
    "scrolled": true
   },
   "outputs": [],
   "source": [
    "def get_firing_rate_for_specific_state(neurons, state):\n",
    "    \"\"\"\n",
    "    Returns a pandas Series object with the mean firing rate of each of the neurons during a chosen state (REM, sws, drowsy, or wake)\n",
    "    \n",
    "    Keyword arguments:\n",
    "    neurons -- numpy.ndarray containing series data of selected neurons \n",
    "    state -- string, should be one of the following: REM, sws, drowsy, wake (default='REM')\n",
    "    \n",
    "    Restrictions:\n",
    "    Can only be called when the neurons and session have already been loaded.\n",
    "    \"\"\"\n",
    "    mean_firing_rates = pd.Series(index = np.arange(len(neurons)),dtype='float64')\n",
    "    state_used = bk.load.states()[state]\n",
    "    for i in range(len(neurons)):\n",
    "        spk_time = neurons[i].restrict(state_used).as_units('ms').index.values\n",
    "        mean_firing_rates[i] = len(spk_time)/state_used.tot_length('s')\n",
    "    \n",
    "    return mean_firing_rates"
   ]
  },
  {
   "cell_type": "code",
   "execution_count": 7,
   "metadata": {
    "scrolled": true
   },
   "outputs": [],
   "source": [
    "def get_firing_rate_for_all_states(neurons):\n",
    "    \n",
    "    states= bk.load.states()\n",
    "    possible_states=list(states.keys())\n",
    "    mean_firing_rates = pd.DataFrame(index = np.arange(len(neurons)),columns=possible_states, dtype='float64')\n",
    "    g\n",
    "    for state in possible_states:\n",
    "        state_used=states[state]\n",
    "        for i in range(len(neurons)):\n",
    "            spk_time = neurons[i].restrict(state_used).as_units('ms').index.values\n",
    "            mean_firing_rates[state][i] = len(spk_time)/state_used.tot_length('s')\n",
    "\n",
    "    return mean_firing_rates "
   ]
  },
  {
   "cell_type": "code",
   "execution_count": 8,
   "metadata": {
    "scrolled": true
   },
   "outputs": [],
   "source": [
    "def get_FR_per_state_neurontype(path, states, brain_region):\n",
    "    '''\n",
    "    Returns 2 lists (one for each state) with the mean firing rate of each of the types of neurons (Pyramidal, interneurons, unknown) during the chosen state.\n",
    "    \n",
    "    Keyword arguments:\n",
    "    path -- string containing the dircetory where the data files are stored\n",
    "    states -- list of 2 strings, should be one of the following: REM, sws, drowsy, wake (default='REM')\n",
    "    '''\n",
    "    neurons_by_type=split_neurons_types_regions(path, brain_region)\n",
    "    firing_rates_state0=[]\n",
    "    firing_rates_state1=[]\n",
    "    for i in neurons_by_type:\n",
    "        x=get_firing_rate_for_specific_state(i, states[0])\n",
    "        y=get_firing_rate_for_specific_state(i, states[1])\n",
    "        firing_rates_state0.append(x)\n",
    "        firing_rates_state1.append(y)\n",
    "    return firing_rates_state0, firing_rates_state1"
   ]
  },
  {
   "cell_type": "code",
   "execution_count": 13,
   "metadata": {
    "scrolled": true
   },
   "outputs": [],
   "source": [
    "def get_plot_c_all_sessions(paths, states, brain_region):\n",
    "    '''\n",
    "    Returns N lists (one for each state) with the mean firing rate of each of the types of neurons (Pyramidal, interneurons, unknown) during the chosen state\n",
    "    where N is the number of sessions.\n",
    "    Returned lists structure = Number of sessions * number of types of cells(=3) * number of cells(depends on session)\n",
    "    \n",
    "    Keyword arguments:\n",
    "    paths -- list of strings containing the dircetories where the data files for each sessions are stored\n",
    "    states -- list of 2 strings, should be one of the following: REM, sws, drowsy, wake (default='REM')\n",
    "    '''\n",
    "    \n",
    "    all_sessions_state0=[]\n",
    "    all_sessions_state1=[]\n",
    "\n",
    "    for path in paths:\n",
    "        FR_per_cell_state0,FR_per_cell_state1=get_FR_per_state_neurontype(path, states, brain_region)\n",
    "        all_sessions_state0.append(FR_per_cell_state0)\n",
    "        all_sessions_state1.append(FR_per_cell_state1)\n",
    "    return all_sessions_state0, all_sessions_state1"
   ]
  },
  {
   "cell_type": "code",
   "execution_count": 2,
   "metadata": {
    "scrolled": true
   },
   "outputs": [],
   "source": [
    "def get_scatter_plot(paths, states, brain_region):\n",
    "    x,y=get_plot_c_all_sessions(paths, states, brain_region)\n",
    "    identity=np.linspace(0,100,101) \n",
    "    plt.plot(identity, identity, 'k-', color='b')\n",
    "    for i in range(len(x)):\n",
    "        plt.scatter(x[i][2],y[i][2], color='gray')\n",
    "        plt.scatter(x[i][0],y[i][0], color='r')\n",
    "        plt.scatter(x[i][1],y[i][1], color='b')\n",
    "    plt.yscale('log')\n",
    "    plt.xscale('log')\n",
    "    plt.xlabel(f'{states[0]} rate (Hz)')\n",
    "    plt.ylabel(f'{states[1]} rate (Hz)')"
   ]
  },
  {
   "cell_type": "code",
   "execution_count": null,
   "metadata": {
    "scrolled": false
   },
   "outputs": [],
   "source": [
    "#delete\n",
    "x,y=get_plot_c_all_sessions(session_paths, ['wake','Rem'], 'BLA')"
   ]
  },
  {
   "cell_type": "code",
   "execution_count": null,
   "metadata": {
    "scrolled": false
   },
   "outputs": [],
   "source": [
    "#delete\n",
    "for i in range(len(x)):\n",
    "    print(y[i][2])"
   ]
  },
  {
   "cell_type": "code",
   "execution_count": 11,
   "metadata": {
    "scrolled": false
   },
   "outputs": [
    {
     "ename": "NameError",
     "evalue": "name 'x' is not defined",
     "output_type": "error",
     "traceback": [
      "\u001b[1;31m---------------------------------------------------------------------------\u001b[0m",
      "\u001b[1;31mNameError\u001b[0m                                 Traceback (most recent call last)",
      "\u001b[1;32m<ipython-input-11-7eade11f54d6>\u001b[0m in \u001b[0;36m<module>\u001b[1;34m\u001b[0m\n\u001b[0;32m      4\u001b[0m \u001b[0mplt\u001b[0m\u001b[1;33m.\u001b[0m\u001b[0mplot\u001b[0m\u001b[1;33m(\u001b[0m\u001b[0midentity\u001b[0m\u001b[1;33m,\u001b[0m \u001b[0midentity\u001b[0m\u001b[1;33m,\u001b[0m \u001b[1;34m'k-'\u001b[0m\u001b[1;33m,\u001b[0m \u001b[0mcolor\u001b[0m\u001b[1;33m=\u001b[0m\u001b[1;34m'b'\u001b[0m\u001b[1;33m)\u001b[0m\u001b[1;33m\u001b[0m\u001b[1;33m\u001b[0m\u001b[0m\n\u001b[0;32m      5\u001b[0m \u001b[0mplt\u001b[0m\u001b[1;33m.\u001b[0m\u001b[0mxlabel\u001b[0m\u001b[1;33m(\u001b[0m\u001b[1;34mf'{states[0]} rate (Hz)'\u001b[0m\u001b[1;33m)\u001b[0m\u001b[1;33m\u001b[0m\u001b[1;33m\u001b[0m\u001b[0m\n\u001b[1;32m----> 6\u001b[1;33m \u001b[1;32mfor\u001b[0m \u001b[0mi\u001b[0m \u001b[1;32min\u001b[0m \u001b[0mrange\u001b[0m\u001b[1;33m(\u001b[0m\u001b[0mlen\u001b[0m\u001b[1;33m(\u001b[0m\u001b[0mx\u001b[0m\u001b[1;33m)\u001b[0m\u001b[1;33m)\u001b[0m\u001b[1;33m:\u001b[0m\u001b[1;33m\u001b[0m\u001b[1;33m\u001b[0m\u001b[0m\n\u001b[0m\u001b[0;32m      7\u001b[0m     \u001b[0mplt\u001b[0m\u001b[1;33m.\u001b[0m\u001b[0mscatter\u001b[0m\u001b[1;33m(\u001b[0m\u001b[0mx\u001b[0m\u001b[1;33m[\u001b[0m\u001b[0mi\u001b[0m\u001b[1;33m]\u001b[0m\u001b[1;33m[\u001b[0m\u001b[1;36m2\u001b[0m\u001b[1;33m]\u001b[0m\u001b[1;33m,\u001b[0m\u001b[0my\u001b[0m\u001b[1;33m[\u001b[0m\u001b[0mi\u001b[0m\u001b[1;33m]\u001b[0m\u001b[1;33m[\u001b[0m\u001b[1;36m2\u001b[0m\u001b[1;33m]\u001b[0m\u001b[1;33m,\u001b[0m \u001b[0mcolor\u001b[0m\u001b[1;33m=\u001b[0m\u001b[1;34m'gray'\u001b[0m\u001b[1;33m)\u001b[0m\u001b[1;33m\u001b[0m\u001b[1;33m\u001b[0m\u001b[0m\n\u001b[0;32m      8\u001b[0m     \u001b[0mplt\u001b[0m\u001b[1;33m.\u001b[0m\u001b[0mscatter\u001b[0m\u001b[1;33m(\u001b[0m\u001b[0mx\u001b[0m\u001b[1;33m[\u001b[0m\u001b[0mi\u001b[0m\u001b[1;33m]\u001b[0m\u001b[1;33m[\u001b[0m\u001b[1;36m0\u001b[0m\u001b[1;33m]\u001b[0m\u001b[1;33m,\u001b[0m\u001b[0my\u001b[0m\u001b[1;33m[\u001b[0m\u001b[0mi\u001b[0m\u001b[1;33m]\u001b[0m\u001b[1;33m[\u001b[0m\u001b[1;36m0\u001b[0m\u001b[1;33m]\u001b[0m\u001b[1;33m,\u001b[0m \u001b[0mcolor\u001b[0m\u001b[1;33m=\u001b[0m\u001b[1;34m'r'\u001b[0m\u001b[1;33m)\u001b[0m\u001b[1;33m\u001b[0m\u001b[1;33m\u001b[0m\u001b[0m\n",
      "\u001b[1;31mNameError\u001b[0m: name 'x' is not defined"
     ]
    },
    {
     "data": {
      "image/png": "[encoded data removed]",
      "text/plain": [
       "<Figure size 432x288 with 1 Axes>"
      ]
     },
     "metadata": {
      "needs_background": "light"
     },
     "output_type": "display_data"
    }
   ],
   "source": [
    "#delete\n",
    "states=['wake','Rem']\n",
    "identity=np.linspace(0,100,101) \n",
    "plt.plot(identity, identity, 'k-', color='b')\n",
    "plt.xlabel(f'{states[0]} rate (Hz)')\n",
    "for i in range(len(x)):\n",
    "    plt.scatter(x[i][2],y[i][2], color='gray')\n",
    "    plt.scatter(x[i][0],y[i][0], color='r')\n",
    "    plt.scatter(x[i][1],y[i][1], color='b')\n",
    "\n",
    "plt.yscale('log')\n",
    "plt.xscale('log')"
   ]
  },
  {
   "cell_type": "code",
   "execution_count": null,
   "metadata": {
    "scrolled": false
   },
   "outputs": [],
   "source": [
    "#delete\n",
    "for i in np.arange(58):\n",
    "    plt.scatter(np.log(x[i][2]),np.log(y[i][2]), color='gray')\n",
    "    plt.scatter(np.log(x[i][0]),np.log(y[i][0]), color='r')\n",
    "    plt.scatter(np.log(x[i][1]),np.log(y[i][1]), color='b')\n",
    "    plt.autoscale()"
   ]
  },
  {
   "cell_type": "code",
   "execution_count": null,
   "metadata": {
    "scrolled": true
   },
   "outputs": [],
   "source": [
    "for path in session_paths:\n",
    "    bk.load.current_session(path)\n",
    "    neurons, metadata = bk.load.loadSpikeData(bk.load.path)\n",
    "    metadata['Region'][metadata['Type']=='Unk'].values\n",
    "    "
   ]
  },
  {
   "cell_type": "code",
   "execution_count": null,
   "metadata": {
    "scrolled": true
   },
   "outputs": [],
   "source": []
  }
 ],
 "metadata": {
  "kernelspec": {
   "display_name": "Python 3",
   "language": "python",
   "name": "python3"
  },
  "language_info": {
   "codemirror_mode": {
    "name": "ipython",
    "version": 3
   },
   "file_extension": ".py",
   "mimetype": "text/x-python",
   "name": "python",
   "nbconvert_exporter": "python",
   "pygments_lexer": "ipython3",
   "version": "3.8.5"
  }
 },
 "nbformat": 4,
 "nbformat_minor": 4
}
