{
 "cells": [
  {
   "cell_type": "code",
   "execution_count": 1,
   "metadata": {},
   "outputs": [],
   "source": [
    "import pickle"
   ]
  },
  {
   "cell_type": "code",
   "execution_count": 2,
   "metadata": {},
   "outputs": [],
   "source": [
    "session_paths=['Z:\\\\Rat08\\\\Rat08-20130708',\n",
    " 'Z:\\\\Rat08\\\\Rat08-20130709',\n",
    " 'Z:\\\\Rat08\\\\Rat08-20130710',\n",
    " 'Z:\\\\Rat08\\\\Rat08-20130711',\n",
    " 'Z:\\\\Rat08\\\\Rat08-20130712',\n",
    " 'Z:\\\\Rat08\\\\Rat08-20130713',\n",
    " 'Z:\\\\Rat08\\\\Rat08-20130715',\n",
    " 'Z:\\\\Rat08\\\\Rat08-20130716',\n",
    " 'Z:\\\\Rat08\\\\Rat08-20130717',\n",
    " 'Z:\\\\Rat08\\\\Rat08-20130718',\n",
    " 'Z:\\\\Rat08\\\\Rat08-20130719',\n",
    " 'Z:\\\\Rat09\\\\Rat09-20140324',\n",
    " 'Z:\\\\Rat09\\\\Rat09-20140325',\n",
    " 'Z:\\\\Rat09\\\\Rat09-20140326',\n",
    " 'Z:\\\\Rat09\\\\Rat09-20140327',\n",
    " 'Z:\\\\Rat09\\\\Rat09-20140328',\n",
    " 'Z:\\\\Rat09\\\\Rat09-20140329',\n",
    " 'Z:\\\\Rat09\\\\Rat09-20140331',\n",
    " 'Z:\\\\Rat09\\\\Rat09-20140401',\n",
    " 'Z:\\\\Rat09\\\\Rat09-20140402',\n",
    " 'Z:\\\\Rat09\\\\Rat09-20140403',\n",
    " 'Z:\\\\Rat09\\\\Rat09-20140404',\n",
    " 'Z:\\\\Rat09\\\\Rat09-20140405',\n",
    " 'Z:\\\\Rat09\\\\Rat09-20140407',\n",
    " 'Z:\\\\Rat09\\\\Rat09-20140408',\n",
    " 'Z:\\\\Rat09\\\\Rat09-20140409',\n",
    " 'Z:\\\\Rat10\\\\Rat10-20140619',\n",
    " 'Z:\\\\Rat10\\\\Rat10-20140620',\n",
    " 'Z:\\\\Rat10\\\\Rat10-20140622',\n",
    " 'Z:\\\\Rat10\\\\Rat10-20140624',\n",
    " 'Z:\\\\Rat10\\\\Rat10-20140626',\n",
    " 'Z:\\\\Rat10\\\\Rat10-20140627',\n",
    " 'Z:\\\\Rat10\\\\Rat10-20140628',\n",
    " 'Z:\\\\Rat10\\\\Rat10-20140629',\n",
    " 'Z:\\\\Rat10\\\\Rat10-20140701',\n",
    " 'Z:\\\\Rat10\\\\Rat10-20140702',\n",
    " 'Z:\\\\Rat10\\\\Rat10-20140703',\n",
    " 'Z:\\\\Rat10\\\\Rat10-20140704',\n",
    " 'Z:\\\\Rat10\\\\Rat10-20140705',\n",
    " 'Z:\\\\Rat10\\\\Rat10-20140707',\n",
    " 'Z:\\\\Rat10\\\\Rat10-20140708',\n",
    " 'Z:\\\\Rat11\\\\Rat11-20150310',\n",
    " 'Z:\\\\Rat11\\\\Rat11-20150312',\n",
    " 'Z:\\\\Rat11\\\\Rat11-20150313',\n",
    " 'Z:\\\\Rat11\\\\Rat11-20150314',\n",
    " 'Z:\\\\Rat11\\\\Rat11-20150315',\n",
    " 'Z:\\\\Rat11\\\\Rat11-20150316',\n",
    " 'Z:\\\\Rat11\\\\Rat11-20150317',\n",
    " 'Z:\\\\Rat11\\\\Rat11-20150321',\n",
    " 'Z:\\\\Rat11\\\\Rat11-20150323',\n",
    " 'Z:\\\\Rat11\\\\Rat11-20150325',\n",
    " 'Z:\\\\Rat11\\\\Rat11-20150326',\n",
    " 'Z:\\\\Rat11\\\\Rat11-20150328',\n",
    " 'Z:\\\\Rat11\\\\Rat11-20150330',\n",
    " 'Z:\\\\Rat11\\\\Rat11-20150331',\n",
    " 'Z:\\\\Rat11\\\\Rat11-20150401',\n",
    " 'Z:\\\\Rat11\\\\Rat11-20150402',\n",
    " 'Z:\\\\Rat11\\\\Rat11-20150403']"
   ]
  },
  {
   "cell_type": "code",
   "execution_count": 3,
   "metadata": {},
   "outputs": [],
   "source": [
    "with open('sessions.pkl', 'wb') as f:\n",
    "    pickle.dump(session_paths, f)"
   ]
  },
  {
   "cell_type": "code",
   "execution_count": null,
   "metadata": {},
   "outputs": [],
   "source": []
  }
 ],
 "metadata": {
  "kernelspec": {
   "display_name": "Python 3",
   "language": "python",
   "name": "python3"
  },
  "language_info": {
   "codemirror_mode": {
    "name": "ipython",
    "version": 3
   },
   "file_extension": ".py",
   "mimetype": "text/x-python",
   "name": "python",
   "nbconvert_exporter": "python",
   "pygments_lexer": "ipython3",
   "version": "3.8.5"
  }
 },
 "nbformat": 4,
 "nbformat_minor": 4
}
